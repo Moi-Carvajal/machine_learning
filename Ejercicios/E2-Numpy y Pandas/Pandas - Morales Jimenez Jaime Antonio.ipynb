{
 "cells": [
  {
   "cell_type": "code",
   "execution_count": 2,
   "metadata": {},
   "outputs": [],
   "source": [
    "# Ejecutar el siguiente comando si aun no tienes la libreria \"Pandas\" instalada:\n",
    "#                         !conda install pandas"
   ]
  },
  {
   "cell_type": "code",
   "execution_count": 24,
   "metadata": {},
   "outputs": [],
   "source": [
    "import pandas as pd"
   ]
  },
  {
   "cell_type": "markdown",
   "metadata": {},
   "source": [
    "### Cargar el Archivo CSV \"ejemplo\" con la libreria pandas y visualizar su contenido (Archivo Adjunto en la Tarjeta de Trello):"
   ]
  },
  {
   "cell_type": "code",
   "execution_count": 6,
   "metadata": {},
   "outputs": [
    {
     "data": {
      "text/html": [
       "<div>\n",
       "<style scoped>\n",
       "    .dataframe tbody tr th:only-of-type {\n",
       "        vertical-align: middle;\n",
       "    }\n",
       "\n",
       "    .dataframe tbody tr th {\n",
       "        vertical-align: top;\n",
       "    }\n",
       "\n",
       "    .dataframe thead th {\n",
       "        text-align: right;\n",
       "    }\n",
       "</style>\n",
       "<table border=\"1\" class=\"dataframe\">\n",
       "  <thead>\n",
       "    <tr style=\"text-align: right;\">\n",
       "      <th></th>\n",
       "      <th>a</th>\n",
       "      <th>b</th>\n",
       "      <th>c</th>\n",
       "      <th>d</th>\n",
       "    </tr>\n",
       "  </thead>\n",
       "  <tbody>\n",
       "    <tr>\n",
       "      <th>0</th>\n",
       "      <td>0</td>\n",
       "      <td>1</td>\n",
       "      <td>2</td>\n",
       "      <td>3</td>\n",
       "    </tr>\n",
       "    <tr>\n",
       "      <th>1</th>\n",
       "      <td>4</td>\n",
       "      <td>5</td>\n",
       "      <td>6</td>\n",
       "      <td>7</td>\n",
       "    </tr>\n",
       "    <tr>\n",
       "      <th>2</th>\n",
       "      <td>8</td>\n",
       "      <td>9</td>\n",
       "      <td>10</td>\n",
       "      <td>11</td>\n",
       "    </tr>\n",
       "    <tr>\n",
       "      <th>3</th>\n",
       "      <td>12</td>\n",
       "      <td>13</td>\n",
       "      <td>14</td>\n",
       "      <td>15</td>\n",
       "    </tr>\n",
       "  </tbody>\n",
       "</table>\n",
       "</div>"
      ],
      "text/plain": [
       "    a   b   c   d\n",
       "0   0   1   2   3\n",
       "1   4   5   6   7\n",
       "2   8   9  10  11\n",
       "3  12  13  14  15"
      ]
     },
     "execution_count": 6,
     "metadata": {},
     "output_type": "execute_result"
    }
   ],
   "source": [
    "archivo_1 = pd.read_csv(\"example.csv\")\n",
    "\n",
    "archivo_1"
   ]
  },
  {
   "cell_type": "markdown",
   "metadata": {},
   "source": [
    "### Cargar el Archivo Excel \"Excel_Sample.xlsx\" (archivo Adjunto en la Tarjeta de Trello) y visualizar su contenido (Utilizando la libreria Pandas):"
   ]
  },
  {
   "cell_type": "code",
   "execution_count": 14,
   "metadata": {},
   "outputs": [
    {
     "data": {
      "text/html": [
       "<div>\n",
       "<style scoped>\n",
       "    .dataframe tbody tr th:only-of-type {\n",
       "        vertical-align: middle;\n",
       "    }\n",
       "\n",
       "    .dataframe tbody tr th {\n",
       "        vertical-align: top;\n",
       "    }\n",
       "\n",
       "    .dataframe thead th {\n",
       "        text-align: right;\n",
       "    }\n",
       "</style>\n",
       "<table border=\"1\" class=\"dataframe\">\n",
       "  <thead>\n",
       "    <tr style=\"text-align: right;\">\n",
       "      <th></th>\n",
       "      <th>Unnamed: 0</th>\n",
       "      <th>a</th>\n",
       "      <th>b</th>\n",
       "      <th>c</th>\n",
       "      <th>d</th>\n",
       "    </tr>\n",
       "  </thead>\n",
       "  <tbody>\n",
       "    <tr>\n",
       "      <th>0</th>\n",
       "      <td>0</td>\n",
       "      <td>0</td>\n",
       "      <td>1</td>\n",
       "      <td>2</td>\n",
       "      <td>3</td>\n",
       "    </tr>\n",
       "    <tr>\n",
       "      <th>1</th>\n",
       "      <td>1</td>\n",
       "      <td>4</td>\n",
       "      <td>5</td>\n",
       "      <td>6</td>\n",
       "      <td>7</td>\n",
       "    </tr>\n",
       "    <tr>\n",
       "      <th>2</th>\n",
       "      <td>2</td>\n",
       "      <td>8</td>\n",
       "      <td>9</td>\n",
       "      <td>10</td>\n",
       "      <td>11</td>\n",
       "    </tr>\n",
       "    <tr>\n",
       "      <th>3</th>\n",
       "      <td>3</td>\n",
       "      <td>12</td>\n",
       "      <td>13</td>\n",
       "      <td>14</td>\n",
       "      <td>15</td>\n",
       "    </tr>\n",
       "  </tbody>\n",
       "</table>\n",
       "</div>"
      ],
      "text/plain": [
       "   Unnamed: 0   a   b   c   d\n",
       "0           0   0   1   2   3\n",
       "1           1   4   5   6   7\n",
       "2           2   8   9  10  11\n",
       "3           3  12  13  14  15"
      ]
     },
     "execution_count": 14,
     "metadata": {},
     "output_type": "execute_result"
    }
   ],
   "source": [
    "archivo_2 = pd.read_excel(\"Excel_Sample.xlsx\")\n",
    "archivo_2"
   ]
  },
  {
   "cell_type": "markdown",
   "metadata": {},
   "source": [
    "### Crea un DataFrame de Pandas con los siguientes Datos e imprimelos en pantalla:"
   ]
  },
  {
   "cell_type": "code",
   "execution_count": null,
   "metadata": {},
   "outputs": [],
   "source": [
    "#Tabla1:\n",
    "#   Nombre  Edad  Genero    Id\n",
    "#   Carmen    26       F  1743\n",
    "#    Pedro    39       M  9264\n",
    "#    Maria    28       F  8362\n",
    "#    Julio    35       M  2537"
   ]
  },
  {
   "cell_type": "code",
   "execution_count": 59,
   "metadata": {},
   "outputs": [
    {
     "name": "stdout",
     "output_type": "stream",
     "text": [
      "   Nombre  Edad Genero    ID\n",
      "   Carmen    26      F  1743\n",
      "    Pedro    39      M  9264\n",
      "    Maria    28      F  8362\n",
      "    Julio    35      M  2547\n"
     ]
    }
   ],
   "source": [
    "data = { \n",
    "    \n",
    "    \"Nombre\" : [\"Carmen\" , \"Pedro\" , \"Maria\" , \"Julio\"] , \n",
    "    \"Edad\" : [26,39,28,35] ,\n",
    "    \"Genero\" : [\"F\",\"M\",\"F\",\"M\"] ,\n",
    "    \"ID\" : [1743,9264,8362,2547] \n",
    "\n",
    "        }\n",
    "\n",
    "data1 = pd.DataFrame(data, columns = [\"Nombre\" , \"Edad\" , \"Genero\" , \"ID\"], index = [\" \",\" \",\" \",\" \"])\n",
    "\n",
    "print(data1)"
   ]
  },
  {
   "cell_type": "markdown",
   "metadata": {},
   "source": [
    "### Crear nuevamente otro DataFrame, pero ahora con los siguientes datos:"
   ]
  },
  {
   "cell_type": "code",
   "execution_count": 1,
   "metadata": {},
   "outputs": [],
   "source": [
    "#Tabla2:\n",
    "#    Nombre  Edad  Genero    Id\n",
    "#  Gabriela    27       F  1736\n",
    "#    Carlos    36       M  3524\n",
    "#    Samuel    22       M  9837\n",
    "#      Jhon    29       M  7367"
   ]
  },
  {
   "cell_type": "code",
   "execution_count": 62,
   "metadata": {},
   "outputs": [
    {
     "name": "stdout",
     "output_type": "stream",
     "text": [
      "     Nombre  Edad Genero    ID\n",
      "   Gabriela    27      F  1736\n",
      "     Carlos    36      M  3524\n",
      "     Samuel    22      M  9837\n",
      "       Jhon    29      M  7367\n"
     ]
    }
   ],
   "source": [
    "data2 = { \n",
    "    \n",
    "    \"Nombre\" : [\"Gabriela\" , \"Carlos\" , \"Samuel\" , \"Jhon\"] , \n",
    "    \"Edad\" : [27,36,22,29] ,\n",
    "    \"Genero\" : [\"F\",\"M\",\"M\",\"M\"] ,\n",
    "    \"ID\" : [1736,3524,9837,7367] \n",
    "\n",
    "        }\n",
    "\n",
    "data3 = pd.DataFrame(data2, columns = [\"Nombre\" , \"Edad\" , \"Genero\" , \"ID\"], index = [\" \",\" \",\" \",\" \"])\n",
    "\n",
    "print(data3)"
   ]
  },
  {
   "cell_type": "markdown",
   "metadata": {},
   "source": [
    "### Combina los 2 dataframes anteriores en uno solo e imprimelos en pantalla:"
   ]
  },
  {
   "cell_type": "code",
   "execution_count": null,
   "metadata": {},
   "outputs": [],
   "source": [
    "#### El resultado deberia de quedar:\n",
    "#    Nombre  Edad  Genero    Id\n",
    "#    Carmen    26       F  1743\n",
    "#     Pedro    39       M  9264\n",
    "#     Maria    28       F  8362\n",
    "#     Julio    35       M  2537\n",
    "#  Gabriela    27       F  1736\n",
    "#    Carlos    36       M  3524\n",
    "#    Samuel    22       M  9837\n",
    "#      Jhon    29       M  7367"
   ]
  },
  {
   "cell_type": "code",
   "execution_count": 67,
   "metadata": {},
   "outputs": [
    {
     "data": {
      "text/html": [
       "<div>\n",
       "<style scoped>\n",
       "    .dataframe tbody tr th:only-of-type {\n",
       "        vertical-align: middle;\n",
       "    }\n",
       "\n",
       "    .dataframe tbody tr th {\n",
       "        vertical-align: top;\n",
       "    }\n",
       "\n",
       "    .dataframe thead th {\n",
       "        text-align: right;\n",
       "    }\n",
       "</style>\n",
       "<table border=\"1\" class=\"dataframe\">\n",
       "  <thead>\n",
       "    <tr style=\"text-align: right;\">\n",
       "      <th></th>\n",
       "      <th>Nombre</th>\n",
       "      <th>Edad</th>\n",
       "      <th>Genero</th>\n",
       "      <th>ID</th>\n",
       "    </tr>\n",
       "  </thead>\n",
       "  <tbody>\n",
       "    <tr>\n",
       "      <th></th>\n",
       "      <td>Carmen</td>\n",
       "      <td>26</td>\n",
       "      <td>F</td>\n",
       "      <td>1743</td>\n",
       "    </tr>\n",
       "    <tr>\n",
       "      <th></th>\n",
       "      <td>Pedro</td>\n",
       "      <td>39</td>\n",
       "      <td>M</td>\n",
       "      <td>9264</td>\n",
       "    </tr>\n",
       "    <tr>\n",
       "      <th></th>\n",
       "      <td>Maria</td>\n",
       "      <td>28</td>\n",
       "      <td>F</td>\n",
       "      <td>8362</td>\n",
       "    </tr>\n",
       "    <tr>\n",
       "      <th></th>\n",
       "      <td>Julio</td>\n",
       "      <td>35</td>\n",
       "      <td>M</td>\n",
       "      <td>2547</td>\n",
       "    </tr>\n",
       "    <tr>\n",
       "      <th></th>\n",
       "      <td>Gabriela</td>\n",
       "      <td>27</td>\n",
       "      <td>F</td>\n",
       "      <td>1736</td>\n",
       "    </tr>\n",
       "    <tr>\n",
       "      <th></th>\n",
       "      <td>Carlos</td>\n",
       "      <td>36</td>\n",
       "      <td>M</td>\n",
       "      <td>3524</td>\n",
       "    </tr>\n",
       "    <tr>\n",
       "      <th></th>\n",
       "      <td>Samuel</td>\n",
       "      <td>22</td>\n",
       "      <td>M</td>\n",
       "      <td>9837</td>\n",
       "    </tr>\n",
       "    <tr>\n",
       "      <th></th>\n",
       "      <td>Jhon</td>\n",
       "      <td>29</td>\n",
       "      <td>M</td>\n",
       "      <td>7367</td>\n",
       "    </tr>\n",
       "  </tbody>\n",
       "</table>\n",
       "</div>"
      ],
      "text/plain": [
       "     Nombre  Edad Genero    ID\n",
       "     Carmen    26      F  1743\n",
       "      Pedro    39      M  9264\n",
       "      Maria    28      F  8362\n",
       "      Julio    35      M  2547\n",
       "   Gabriela    27      F  1736\n",
       "     Carlos    36      M  3524\n",
       "     Samuel    22      M  9837\n",
       "       Jhon    29      M  7367"
      ]
     },
     "execution_count": 67,
     "metadata": {},
     "output_type": "execute_result"
    }
   ],
   "source": [
    "data4 = pd.concat([data1, data3])\n",
    "\n",
    "data4"
   ]
  },
  {
   "cell_type": "code",
   "execution_count": null,
   "metadata": {},
   "outputs": [],
   "source": []
  }
 ],
 "metadata": {
  "kernelspec": {
   "display_name": "Python 3",
   "language": "python",
   "name": "python3"
  },
  "language_info": {
   "codemirror_mode": {
    "name": "ipython",
    "version": 3
   },
   "file_extension": ".py",
   "mimetype": "text/x-python",
   "name": "python",
   "nbconvert_exporter": "python",
   "pygments_lexer": "ipython3",
   "version": "3.7.6"
  }
 },
 "nbformat": 4,
 "nbformat_minor": 2
}
