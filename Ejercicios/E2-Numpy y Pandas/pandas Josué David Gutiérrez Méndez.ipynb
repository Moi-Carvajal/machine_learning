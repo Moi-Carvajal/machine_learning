{
 "cells": [
  {
   "cell_type": "code",
   "execution_count": 1,
   "metadata": {},
   "outputs": [],
   "source": [
    "import pandas as pd"
   ]
  },
  {
   "cell_type": "markdown",
   "metadata": {},
   "source": [
    "## Cargar el Archivo CSV \"ejemplo\" con la libreria pandas y visualizar su contenido (Archivo Adjunto en la Tarjeta de Trello):"
   ]
  },
  {
   "cell_type": "code",
   "execution_count": 15,
   "metadata": {
    "scrolled": false
   },
   "outputs": [
    {
     "name": "stdout",
     "output_type": "stream",
     "text": [
      "    a   b   c   d\n",
      "0   0   1   2   3\n",
      "1   4   5   6   7\n",
      "2   8   9  10  11\n",
      "3  12  13  14  15\n"
     ]
    }
   ],
   "source": [
    "ejemplo = pd.read_csv('example.csv')\n",
    "print(ejemplo)"
   ]
  },
  {
   "cell_type": "markdown",
   "metadata": {},
   "source": [
    "## Cargar el Archivo Excel \"Excel_Sample.xlsx\" (archivo Adjunto en la Tarjeta de Trello) y visualizar su contenido (Utilizando la libreria Pandas):"
   ]
  },
  {
   "cell_type": "code",
   "execution_count": 24,
   "metadata": {},
   "outputs": [
    {
     "name": "stdout",
     "output_type": "stream",
     "text": [
      "   Unnamed: 0   a   b   c   d\n",
      "0           0   0   1   2   3\n",
      "1           1   4   5   6   7\n",
      "2           2   8   9  10  11\n",
      "3           3  12  13  14  15\n"
     ]
    }
   ],
   "source": [
    "excel = pd.read_excel('Excel_Sample.xlsx')\n",
    "print(excel)"
   ]
  },
  {
   "cell_type": "markdown",
   "metadata": {},
   "source": [
    "## Crea un DataFrame de Pandas con los siguientes Datos e imprimelos en pantalla:"
   ]
  },
  {
   "cell_type": "code",
   "execution_count": 65,
   "metadata": {
    "scrolled": true
   },
   "outputs": [
    {
     "name": "stdout",
     "output_type": "stream",
     "text": [
      " Nombres  Edades Género    ID\n",
      "  Carmen      26      F  1743\n",
      "   Pedro      39      M  9264\n",
      "   María      28      F  8362\n",
      "   Julio      35      M  2537\n"
     ]
    }
   ],
   "source": [
    "datos1 = {'Nombres': [\"Carmen\", \"Pedro\", \"María\", \"Julio\"],\n",
    "         'Edades': [26, 39, 28, 35],\n",
    "         'Género': [\"F\", \"M\", \"F\", \"M\"],\n",
    "         'ID': [1743, 9264, 8362, 2537]}\n",
    "df1 = pd.DataFrame(datos1, index=[\"\", \"\", \"\", \"\"])\n",
    "print(df1)"
   ]
  },
  {
   "cell_type": "markdown",
   "metadata": {},
   "source": [
    "## Crear nuevamente otro DataFrame, pero ahora con los siguientes datos:"
   ]
  },
  {
   "cell_type": "code",
   "execution_count": 66,
   "metadata": {},
   "outputs": [
    {
     "name": "stdout",
     "output_type": "stream",
     "text": [
      "   Nombres  Edades Género    ID\n",
      "  Gabriela      27      F  1736\n",
      "    Carlos      36      M  3524\n",
      "    Samuel      22      M  9837\n",
      "      Jhon      29      M  7367\n"
     ]
    }
   ],
   "source": [
    "datos2 = {'Nombres': [\"Gabriela\", \"Carlos\", \"Samuel\", \"Jhon\"],\n",
    "         'Edades': [27, 36, 22, 29],\n",
    "         'Género': [\"F\", \"M\", \"M\", \"M\"],\n",
    "         'ID': [1736, 3524, 9837, 7367]}\n",
    "df2 = pd.DataFrame(datos2, index=[\"\", \"\", \"\", \"\"])\n",
    "print(df2)"
   ]
  },
  {
   "cell_type": "markdown",
   "metadata": {},
   "source": [
    "## Combina los 2 dataframes anteriores en uno solo e imprimelos en pantalla:"
   ]
  },
  {
   "cell_type": "code",
   "execution_count": 72,
   "metadata": {
    "scrolled": true
   },
   "outputs": [
    {
     "name": "stdout",
     "output_type": "stream",
     "text": [
      "   Nombres  Edades Género    ID\n",
      "    Carmen      26      F  1743\n",
      "     Pedro      39      M  9264\n",
      "     María      28      F  8362\n",
      "     Julio      35      M  2537\n",
      "  Gabriela      27      F  1736\n",
      "    Carlos      36      M  3524\n",
      "    Samuel      22      M  9837\n",
      "      Jhon      29      M  7367\n"
     ]
    }
   ],
   "source": [
    "df = pd.concat([df1, df2], axis = 0)\n",
    "print(df)"
   ]
  }
 ],
 "metadata": {
  "kernelspec": {
   "display_name": "Python 3",
   "language": "python",
   "name": "python3"
  },
  "language_info": {
   "codemirror_mode": {
    "name": "ipython",
    "version": 3
   },
   "file_extension": ".py",
   "mimetype": "text/x-python",
   "name": "python",
   "nbconvert_exporter": "python",
   "pygments_lexer": "ipython3",
   "version": "3.8.3"
  }
 },
 "nbformat": 4,
 "nbformat_minor": 4
}
