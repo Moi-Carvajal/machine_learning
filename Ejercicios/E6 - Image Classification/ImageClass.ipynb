{
  "nbformat": 4,
  "nbformat_minor": 0,
  "metadata": {
    "colab": {
      "name": "ImageClass.ipynb",
      "provenance": []
    },
    "kernelspec": {
      "name": "python3",
      "display_name": "Python 3"
    }
  },
  "cells": [
    {
      "cell_type": "code",
      "metadata": {
        "id": "rcWFeU3msvs1"
      },
      "source": [
        "import tensorflow as tf \n",
        "\n",
        "from tensorflow.keras import datasets, layers, models \n",
        "from tensorflow.keras.utils import to_categorical \n",
        "import matplotlib.pyplot as plt "
      ],
      "execution_count": 1,
      "outputs": []
    },
    {
      "cell_type": "code",
      "metadata": {
        "id": "ECJi-kKDtTq2"
      },
      "source": [
        "(train_images, train_labels), (test_images, test_labels)=datasets.mnist.load_data(path='mnist.npz')\n",
        "train_images, test_images = train_images / 255.0, test_images / 255.0"
      ],
      "execution_count": 4,
      "outputs": []
    },
    {
      "cell_type": "code",
      "metadata": {
        "id": "kNAF-M3QueM-",
        "outputId": "8542687a-568d-41e3-ed06-5a14cdfde983",
        "colab": {
          "base_uri": "https://localhost:8080/",
          "height": 578
        }
      },
      "source": [
        "plt.figure(figsize=(10,10))\n",
        "\n",
        "for i in range(9):\n",
        "    plt.subplot(3,3,i+1)\n",
        "    plt.xticks([])\n",
        "    plt.yticks([])\n",
        "    plt.grid(False)\n",
        "    plt.imshow(train_images[i], cmap='gray')\n",
        "\n",
        "plt.show()\n"
      ],
      "execution_count": 10,
      "outputs": [
        {
          "output_type": "display_data",
          "data": {
            "image/png": "[encoded data removed]",
            "text/plain": [
              "<Figure size 720x720 with 9 Axes>"
            ]
          },
          "metadata": {
            "tags": []
          }
        }
      ]
    },
    {
      "cell_type": "code",
      "metadata": {
        "id": "Q3351FAEv0mO"
      },
      "source": [
        "train_images = train_images.reshape((60000,28,28,1))\n",
        "test_images = test_images.reshape((10000,28,28,1))\n",
        "\n",
        "train_labels = to_categorical(train_labels)\n",
        "test_labels = to_categorical(test_labels)"
      ],
      "execution_count": 11,
      "outputs": []
    },
    {
      "cell_type": "code",
      "metadata": {
        "id": "KY9o5JwrySJq"
      },
      "source": [
        "model = models.Sequential()\n",
        "model.add(layers.Conv2D(4, (3, 3), activation='relu', input_shape=(28,28,1)))\n",
        "model.add(layers.MaxPooling2D((2, 2), strides=2))\n",
        "model.add(layers.Conv2D(4, (3, 3), activation='relu'))\n",
        "model.add(layers.MaxPooling2D((2, 2), strides=2))\n",
        "model.add(layers.Flatten())\n",
        "model.add(layers.Dense(10, activation='softmax'))"
      ],
      "execution_count": 12,
      "outputs": []
    },
    {
      "cell_type": "code",
      "metadata": {
        "id": "QLFMmv1FzKLS",
        "outputId": "cf25023c-2cb7-43c5-e160-d9cd209ca845",
        "colab": {
          "base_uri": "https://localhost:8080/"
        }
      },
      "source": [
        "model.summary()"
      ],
      "execution_count": 13,
      "outputs": [
        {
          "output_type": "stream",
          "text": [
            "Model: \"sequential\"\n",
            "_________________________________________________________________\n",
            "Layer (type)                 Output Shape              Param #   \n",
            "=================================================================\n",
            "conv2d (Conv2D)              (None, 26, 26, 4)         40        \n",
            "_________________________________________________________________\n",
            "max_pooling2d (MaxPooling2D) (None, 13, 13, 4)         0         \n",
            "_________________________________________________________________\n",
            "conv2d_1 (Conv2D)            (None, 11, 11, 4)         148       \n",
            "_________________________________________________________________\n",
            "max_pooling2d_1 (MaxPooling2 (None, 5, 5, 4)           0         \n",
            "_________________________________________________________________\n",
            "flatten (Flatten)            (None, 100)               0         \n",
            "_________________________________________________________________\n",
            "dense (Dense)                (None, 10)                1010      \n",
            "=================================================================\n",
            "Total params: 1,198\n",
            "Trainable params: 1,198\n",
            "Non-trainable params: 0\n",
            "_________________________________________________________________\n"
          ],
          "name": "stdout"
        }
      ]
    },
    {
      "cell_type": "code",
      "metadata": {
        "id": "d7LiPhz1zTat"
      },
      "source": [
        "model.compile(optimizer='adam',\n",
        "              loss='categorical_crossentropy',\n",
        "              metrics=['accuracy'])"
      ],
      "execution_count": 20,
      "outputs": []
    },
    {
      "cell_type": "code",
      "metadata": {
        "id": "0XUR5VgTztns",
        "outputId": "79ecf98c-96de-42ee-885a-cb71523f2d8f",
        "colab": {
          "base_uri": "https://localhost:8080/"
        }
      },
      "source": [
        "history = model.fit(train_images, train_labels, epochs=11, validation_data=(test_images, test_labels))\n"
      ],
      "execution_count": 33,
      "outputs": [
        {
          "output_type": "stream",
          "text": [
            "Epoch 1/11\n",
            "1875/1875 [==============================] - 22s 12ms/step - loss: 0.0894 - accuracy: 0.9733 - val_loss: 0.0853 - val_accuracy: 0.9746\n",
            "Epoch 2/11\n",
            "1875/1875 [==============================] - 23s 12ms/step - loss: 0.0858 - accuracy: 0.9741 - val_loss: 0.0838 - val_accuracy: 0.9757\n",
            "Epoch 3/11\n",
            "1875/1875 [==============================] - 22s 12ms/step - loss: 0.0844 - accuracy: 0.9744 - val_loss: 0.0799 - val_accuracy: 0.9738\n",
            "Epoch 4/11\n",
            "1875/1875 [==============================] - 23s 12ms/step - loss: 0.0819 - accuracy: 0.9756 - val_loss: 0.0721 - val_accuracy: 0.9776\n",
            "Epoch 5/11\n",
            "1875/1875 [==============================] - 22s 12ms/step - loss: 0.0801 - accuracy: 0.9758 - val_loss: 0.0829 - val_accuracy: 0.9734\n",
            "Epoch 6/11\n",
            "1875/1875 [==============================] - 22s 12ms/step - loss: 0.0782 - accuracy: 0.9761 - val_loss: 0.0736 - val_accuracy: 0.9774\n",
            "Epoch 7/11\n",
            "1875/1875 [==============================] - 22s 12ms/step - loss: 0.0762 - accuracy: 0.9774 - val_loss: 0.0775 - val_accuracy: 0.9762\n",
            "Epoch 8/11\n",
            "1875/1875 [==============================] - 22s 12ms/step - loss: 0.0750 - accuracy: 0.9774 - val_loss: 0.0746 - val_accuracy: 0.9767\n",
            "Epoch 9/11\n",
            "1875/1875 [==============================] - 22s 12ms/step - loss: 0.0733 - accuracy: 0.9774 - val_loss: 0.0721 - val_accuracy: 0.9782\n",
            "Epoch 10/11\n",
            "1875/1875 [==============================] - 22s 12ms/step - loss: 0.0718 - accuracy: 0.9785 - val_loss: 0.0707 - val_accuracy: 0.9784\n",
            "Epoch 11/11\n",
            "1875/1875 [==============================] - 23s 12ms/step - loss: 0.0710 - accuracy: 0.9783 - val_loss: 0.0674 - val_accuracy: 0.9777\n"
          ],
          "name": "stdout"
        }
      ]
    },
    {
      "cell_type": "code",
      "metadata": {
        "id": "yixdoXUxJYU4",
        "outputId": "720dd2ec-a377-4588-cb80-3e332a679f8d",
        "colab": {
          "base_uri": "https://localhost:8080/",
          "height": 282
        }
      },
      "source": [
        "import numpy as np\n",
        "from keras_preprocessing import image \n",
        "\n",
        "images = image.load_img(\"numero6.jpg\", target_size=(28, 28)) #Aqui va la imagen a reconocer \n",
        "plt.imshow(images)\n",
        "\n",
        "x = image.img_to_array(images)\n",
        "x = tf.image.rgb_to_grayscale(x) #Esta linea es por si la imagen esta a color \n",
        "x = np.expand_dims(x, axis=0)\n",
        "x = x/255.0\n",
        "\n",
        "\n",
        "\n",
        "\n",
        "predicted=model.predict(x)\n",
        "a=predicted [0][0]\n",
        "for i in range (0,10):\n",
        "    b=predicted [0][i]\n",
        "\n",
        "print(\"El valor predecido es : \",np.argmax(predicted[0]))"
      ],
      "execution_count": 34,
      "outputs": [
        {
          "output_type": "stream",
          "text": [
            "El valor predecido es :  6\n"
          ],
          "name": "stdout"
        },
        {
          "output_type": "display_data",
          "data": {
            "image/png": "[encoded data removed]",
            "text/plain": [
              "<Figure size 432x288 with 1 Axes>"
            ]
          },
          "metadata": {
            "tags": [],
            "needs_background": "light"
          }
        }
      ]
    }
  ]
}