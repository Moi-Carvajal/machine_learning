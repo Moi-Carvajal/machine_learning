{
 "cells": [
  {
   "cell_type": "code",
   "execution_count": 2,
   "metadata": {},
   "outputs": [],
   "source": [
    "import pandas as pd\n",
    "import numpy as np\n",
    "import matplotlib.pyplot as plt"
   ]
  },
  {
   "cell_type": "code",
   "execution_count": 7,
   "metadata": {},
   "outputs": [],
   "source": [
    "data=pd.read_csv(\"Advertising.csv\")\n",
    "df=pd.DataFrame(data,columns=[\"TV\",\"Sales\"])\n",
    "\n",
    "X = np.array(df[\"TV\"])\n",
    "Y = np.array(df[\"Sales\"])"
   ]
  },
  {
   "cell_type": "code",
   "execution_count": null,
   "metadata": {},
   "outputs": [],
   "source": [
    "plt.scatter(X,Y, c = \"green\")\n",
    "\n",
    "\n",
    "X = np.array([np.ones(200), X]).T\n",
    "B = np.linalg.inv(X.T @ X) @ X.T @ Y\n",
    "\n",
    "A = plt.plot([0,300],[B[0] + B[1] * 0 , B[0] + B[1] * 300 ])\n",
    "\n",
    "# ---------------------------------------------------------------- Ejercicio Opcional\n",
    "\n",
    "pred_x = int(input(\"> ¿Cual es el valor de X que deseas calcular? : \"))\n",
    "\n",
    "pred_y = (B[1] * pred_x) + B[0]\n",
    "\n",
    "B = plt.plot(pred_x,pred_y, marker=\"o\", color=\"red\")\n",
    "\n",
    "print(A+B)\n",
    "\n",
    "print(\"> El Valor De Y es : \" ,pred_y)"
   ]
  },
  {
   "cell_type": "code",
   "execution_count": 8,
   "metadata": {},
   "outputs": [
    {
     "data": {
      "image/png": "[encoded data removed]",
      "text/plain": [
       "<Figure size 432x288 with 1 Axes>"
      ]
     },
     "metadata": {
      "needs_background": "light"
     },
     "output_type": "display_data"
    }
   ],
   "source": [
    "M = 0\n",
    "C = 0\n",
    "L = 0.00001\n",
    "K = 1000\n",
    "\n",
    "n = float(len(X))\n",
    "\n",
    "for i in range (K):\n",
    "    \n",
    "    yp = M * X + C\n",
    "    \n",
    "    dm = ( -2 / n ) * sum ( X * ( Y - yp ))\n",
    "    dc = ( -2 / n ) * sum ( Y - yp )\n",
    "    \n",
    "    M = M - L * dm\n",
    "    C = C - L * dc\n",
    "    \n",
    "plt.scatter(X,Y, c = \"green\")\n",
    "plt.plot([min(X) , max(X)] , [min(yp) , max(yp)] , color = 'red')\n",
    "plt.show()"
   ]
  },
  {
   "cell_type": "code",
   "execution_count": null,
   "metadata": {},
   "outputs": [],
   "source": []
  }
 ],
 "metadata": {
  "kernelspec": {
   "display_name": "Python 3",
   "language": "python",
   "name": "python3"
  },
  "language_info": {
   "codemirror_mode": {
    "name": "ipython",
    "version": 3
   },
   "file_extension": ".py",
   "mimetype": "text/x-python",
   "name": "python",
   "nbconvert_exporter": "python",
   "pygments_lexer": "ipython3",
   "version": "3.7.6"
  }
 },
 "nbformat": 4,
 "nbformat_minor": 4
}
