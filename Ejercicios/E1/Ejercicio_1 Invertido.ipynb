{
 "cells": [
  {
   "cell_type": "code",
   "execution_count": 9,
   "metadata": {},
   "outputs": [
    {
     "name": "stdout",
     "output_type": "stream",
     "text": [
      "Ingresa Un Texto: Estoy realizando un programa en python\n",
      "nohtyp ne amargorp nu odnazilaer yotsE\n"
     ]
    }
   ],
   "source": [
    "cadena = str(input(\"Ingresa Un Texto: \"))\n",
    "\n",
    "longitud = len(cadena)\n",
    "longitudVariable = longitud\n",
    "contador = \"\"\n",
    "\n",
    "for i in range (0, longitud):\n",
    "    \n",
    "    letra = cadena[longitudVariable-1]\n",
    "    contador = contador + letra\n",
    "    \n",
    "    longitudVariable -= 1\n",
    "\n",
    "print(contador)\n",
    "    "
   ]
  },
  {
   "cell_type": "code",
   "execution_count": null,
   "metadata": {},
   "outputs": [],
   "source": []
  },
  {
   "cell_type": "code",
   "execution_count": null,
   "metadata": {},
   "outputs": [],
   "source": []
  }
 ],
 "metadata": {
  "kernelspec": {
   "display_name": "Python 3",
   "language": "python",
   "name": "python3"
  },
  "language_info": {
   "codemirror_mode": {
    "name": "ipython",
    "version": 3
   },
   "file_extension": ".py",
   "mimetype": "text/x-python",
   "name": "python",
   "nbconvert_exporter": "python",
   "pygments_lexer": "ipython3",
   "version": "3.7.6"
  }
 },
 "nbformat": 4,
 "nbformat_minor": 4
}
