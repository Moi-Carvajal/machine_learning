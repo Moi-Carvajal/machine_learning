{
 "cells": [
  {
   "cell_type": "markdown",
   "metadata": {},
   "source": [
    "**PROGRAMA 1**"
   ]
  },
  {
   "cell_type": "code",
   "execution_count": 1,
   "metadata": {},
   "outputs": [
    {
     "name": "stdout",
     "output_type": "stream",
     "text": [
      "Intoduzca su palabra:hola\n",
      "a\n",
      "l\n",
      "o\n",
      "h\n"
     ]
    }
   ],
   "source": [
    "word=str(input(\"Intoduzca su palabra:\"))\n",
    "\n",
    "for i in range (len(word)-1 , -1 ,-1):\n",
    "    print (word[i])\n",
    "      \n",
    "    \n",
    "    \n"
   ]
  },
  {
   "cell_type": "markdown",
   "metadata": {},
   "source": [
    "**Nota** \n",
    "Pienso que hubiera sido mas facil de esta manera, solo es un ejemplo espero no me lo tomen a mal "
   ]
  },
  {
   "cell_type": "code",
   "execution_count": 12,
   "metadata": {},
   "outputs": [
    {
     "name": "stdout",
     "output_type": "stream",
     "text": [
      "introduzca su palabra: hola\n",
      "aloh\n"
     ]
    }
   ],
   "source": [
    "palabra= str(input(\"introduzca su palabra: \"))\n",
    "\n",
    "print(palabra [::-1])"
   ]
  },
  {
   "cell_type": "markdown",
   "metadata": {},
   "source": [
    "**PROGRAMA 2**"
   ]
  },
  {
   "cell_type": "code",
   "execution_count": 11,
   "metadata": {},
   "outputs": [
    {
     "name": "stdout",
     "output_type": "stream",
     "text": [
      "Inserte el numero binario: 10001\n",
      "resultado : 17\n"
     ]
    }
   ],
   "source": [
    "numero=input(\"Inserte el numero binario: \")\n",
    "cadena=numero[::-1]\n",
    "numeroout=0\n",
    "exp=0\n",
    "\n",
    "while (exp<len(cadena)):\n",
    "    if int (cadena[exp])==1:\n",
    "        numeroout+= int(cadena[exp])*2**exp\n",
    "    exp=exp+1\n",
    "print(\"resultado :\",numeroout)    \n",
    " \n",
    " \n"
   ]
  },
  {
   "cell_type": "markdown",
   "metadata": {},
   "source": [
    "**PROGRAMA 3** \n",
    "\n",
    "En el ultimo ejercicio no entendi bien el contexto. Aun que no estoy seguro segun mi pensar la ultima linea es erronea debido a que dentro de la linea de impresion quiere hacer operaciones , ademas que no estan bien establesidas como tal, tal vez deberia hacer primero la operacion y almacenar el resultado en una variable y posteriormente imprimirla."
   ]
  }
 ],
 "metadata": {
  "kernelspec": {
   "display_name": "Python 3",
   "language": "python",
   "name": "python3"
  }
 },
 "nbformat": 4,
 "nbformat_minor": 2
}
