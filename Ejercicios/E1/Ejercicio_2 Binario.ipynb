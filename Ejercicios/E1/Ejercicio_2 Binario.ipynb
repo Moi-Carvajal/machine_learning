{
 "cells": [
  {
   "cell_type": "markdown",
   "metadata": {},
   "source": [
    "<h1>Ejercio 2<h1>\n",
    "    <h3>Desarrollar un programa en Python en el que te pida ingresar ya sea una cadena o un numero como tal de unos y ceros (es decir, ingresar un numero en representación binaria) y este devuelva su correspondiente valor en decimal.<h3>"
   ]
  },
  {
   "cell_type": "code",
   "execution_count": 5,
   "metadata": {},
   "outputs": [
    {
     "name": "stdout",
     "output_type": "stream",
     "text": [
      "> Convertir Binario A Decimal\n",
      "> Cual Es El Número: 1011\n",
      "Resultado:  11\n"
     ]
    }
   ],
   "source": [
    "print(\"> Convertir Binario A Decimal\")\n",
    "\n",
    "binario = str(input(\"> Cual Es El Número: \"))\n",
    "\n",
    "binarioLongitud = len(binario)\n",
    "exponente = binarioLongitud\n",
    "ciclo = exponente\n",
    "contador = 0\n",
    "\n",
    "while ciclo >= 1:\n",
    "    \n",
    "    residuo = int(binario) - 10 ** (int(exponente) - 1)\n",
    "    restaBinarioResiduo = int(binario) - residuo\n",
    "    division = 10 ** (int(exponente)-1) / int(restaBinarioResiduo)\n",
    "    convertirNumeroIndividual = int(division) * 2 ** (int(exponente)-1)\n",
    "    nuevoResiduo = str(residuo)\n",
    "    \n",
    "    contador = contador + convertirNumeroIndividual\n",
    "    \n",
    "    residuoTexto = str(residuo)\n",
    "    exponente = len(residuoTexto)\n",
    "    binario = residuo\n",
    "    ciclo = len(nuevoResiduo)\n",
    "    \n",
    "    ciclo -= 1\n",
    "\n",
    "if residuo == 0:\n",
    "    \n",
    "    print(\"Resultado: \" , contador)\n",
    "    \n",
    "else:\n",
    "    \n",
    "    residuo = int(binario) - 10 ** (int(exponente) - 1)\n",
    "    restaBinarioResiduo = int(binario) - residuo\n",
    "    division = 10 ** (int(exponente)-1) / int(restaBinarioResiduo)\n",
    "    convertirNumeroIndividual = int(division) * 2 ** (int(exponente)-1)\n",
    "    nuevoResiduo = str(residuo)\n",
    "    \n",
    "    contador = contador + convertirNumeroIndividual\n",
    "    \n",
    "    print(\"Resultado: \" , contador)"
   ]
  }
 ],
 "metadata": {
  "kernelspec": {
   "display_name": "Python 3",
   "language": "python",
   "name": "python3"
  },
  "language_info": {
   "codemirror_mode": {
    "name": "ipython",
    "version": 3
   },
   "file_extension": ".py",
   "mimetype": "text/x-python",
   "name": "python",
   "nbconvert_exporter": "python",
   "pygments_lexer": "ipython3",
   "version": "3.7.6"
  }
 },
 "nbformat": 4,
 "nbformat_minor": 4
}
