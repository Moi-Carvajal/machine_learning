{
 "cells": [
  {
   "cell_type": "markdown",
   "metadata": {},
   "source": [
    "# PROGRAMA No.1"
   ]
  },
  {
   "cell_type": "code",
   "execution_count": 19,
   "metadata": {},
   "outputs": [
    {
     "name": "stdout",
     "output_type": "stream",
     "text": [
      "Ingrese la frase que deseé invertir: pedro\n",
      "<class 'int'>\n",
      "ordep\n",
      "Esta es su frase, gracais por usar mi programa :D\n"
     ]
    }
   ],
   "source": [
    "palabra= input(\"Ingrese la frase que deseé invertir: \")\n",
    "count= (len(palabra) -1)\n",
    "a = count + 1\n",
    "for i in range (0,a):\n",
    "    print(palabra[count],end=\"\")\n",
    "    count =  count - 1\n",
    "print()\n",
    "print(\"Esta es su frase, gracias por usar mi programa :D\")"
   ]
  },
  {
   "cell_type": "markdown",
   "metadata": {},
   "source": [
    "# PROGRAMA No.2"
   ]
  },
  {
   "cell_type": "code",
   "execution_count": 6,
   "metadata": {},
   "outputs": [
    {
     "name": "stdout",
     "output_type": "stream",
     "text": [
      "Escriba 1 si quiere convertir a binario o escriba 2 si quiere convertir a decimal: 1\n",
      "Ingrese el numero a convertir a binario: 256\n",
      "100000000\n",
      "Este es su numero en sistema binario :D\n",
      "esa opcion no esta disponible... solo puede colocar 1 o 2 D:\n",
      "\n",
      "graias por usar mi programa :D\n"
     ]
    }
   ],
   "source": [
    "select= int(input(\"Escriba 1 si quiere convertir a binario o escriba 2 si quiere convertir a decimal: \"))\n",
    "if select== 1:\n",
    "    num = int(input(\"Ingrese el numero a convertir a binario: \"))\n",
    "    i = 0\n",
    "    lista= []\n",
    "    while i < 1000:\n",
    "        num2=num%2\n",
    "        num= int((num-num2)/2)\n",
    "        lista.append(num2)\n",
    "        i += 1\n",
    "        if num == 0:\n",
    "            break\n",
    "\n",
    "\n",
    "    count= (len(lista) -1)\n",
    "    a = count + 1\n",
    "\n",
    "    for i in range (0,a):\n",
    "        print(lista[count],end=\"\")\n",
    "        count =  count - 1\n",
    "    print()\n",
    "    print(\"Este es su numero en sistema binario :D\")\n",
    "        \n",
    "if select == 2:\n",
    "    num3= input(\"Ingrese el numero a convertir a decimal: \")\n",
    "    count= (len(num3) -1)\n",
    "    a = count + 1\n",
    "    lista = []\n",
    "    exp = 1\n",
    "    count2 = 0\n",
    "    num4 = 0\n",
    "    num5 = 0\n",
    "    for i in range (0,a):\n",
    "        va=int(num3[count])\n",
    "        lista.append(va)\n",
    "        count =  count - 1\n",
    "    for j in range (0,a):\n",
    "        num5 = (lista[count2]*exp)\n",
    "        num4 = num4 + num5\n",
    "        count2 = count2 + 1\n",
    "        exp= exp*2\n",
    "    \n",
    "    print()\n",
    "    print(\"Este es su numero en sistema decimal: \",num4)\n",
    "else:\n",
    "    print(\"esa opcion no esta disponible... solo puede colocar 1 o 2 D:\")\n",
    "print()\n",
    "print(\"graias por usar mi programa :D\")"
   ]
  },
  {
   "cell_type": "markdown",
   "metadata": {},
   "source": [
    "# PROGRAMA No.3"
   ]
  },
  {
   "cell_type": "code",
   "execution_count": null,
   "metadata": {},
   "outputs": [],
   "source": [
    "def maximo(a,b):\n",
    "  if x>y:\n",
    "    return x\n",
    "  else:\n",
    "    return y\n",
    "\n",
    " \n",
    "def minimo(a,b):\n",
    "  if x<y:\n",
    "    return x\n",
    "  else:\n",
    "    return y\n",
    "\n",
    " \n",
    "#programa principal\n",
    "x=int(input(\"Un n�mero: \"))\n",
    "y=int(input(\"Otro n�mero: \"))\n",
    "print(max(x-3, y-5), min(x+2, y-5))\n"
   ]
  },
  {
   "cell_type": "markdown",
   "metadata": {},
   "source": [
    "el error esta en que no existe ninguna funcion llamada maximo o minimo, el nombre correcto de la funcion es de max y min... \n",
    "este era el error por lo cual no mandaba lo que debia."
   ]
  },
  {
   "cell_type": "code",
   "execution_count": null,
   "metadata": {},
   "outputs": [],
   "source": []
  }
 ],
 "metadata": {
  "kernelspec": {
   "display_name": "Python 3",
   "language": "python",
   "name": "python3"
  },
  "language_info": {
   "codemirror_mode": {
    "name": "ipython",
    "version": 3
   },
   "file_extension": ".py",
   "mimetype": "text/x-python",
   "name": "python",
   "nbconvert_exporter": "python",
   "pygments_lexer": "ipython3",
   "version": "3.8.3"
  }
 },
 "nbformat": 4,
 "nbformat_minor": 4
}
