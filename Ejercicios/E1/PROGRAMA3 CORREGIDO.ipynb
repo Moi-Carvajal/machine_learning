{
 "cells": [
  {
   "cell_type": "code",
   "execution_count": 1,
   "metadata": {},
   "outputs": [
    {
     "name": "stdout",
     "output_type": "stream",
     "text": [
      "Un numero: 5\n",
      "Otro numero: 1\n",
      "2\n"
     ]
    }
   ],
   "source": [
    "def maximo(a,b):\n",
    "  if x>y:\n",
    "    return a\n",
    "  else:\n",
    "    return b\n",
    "\n",
    " \n",
    "def minimo(a,b):\n",
    "  if x<y:\n",
    "    return a\n",
    "  else:\n",
    "    return b\n",
    "\n",
    " \n",
    "#programa principal\n",
    "x=int(input(\"Un numero: \"))\n",
    "y=int(input(\"Otro numero: \"))\n",
    "print(maximo(x-3,  minimo(x+2, y-5) ))"
   ]
  },
  {
   "cell_type": "code",
   "execution_count": null,
   "metadata": {},
   "outputs": [],
   "source": []
  },
  {
   "cell_type": "code",
   "execution_count": null,
   "metadata": {},
   "outputs": [],
   "source": []
  }
 ],
 "metadata": {
  "kernelspec": {
   "display_name": "Python 3",
   "language": "python",
   "name": "python3"
  },
  "language_info": {
   "codemirror_mode": {
    "name": "ipython",
    "version": 3
   },
   "file_extension": ".py",
   "mimetype": "text/x-python",
   "name": "python",
   "nbconvert_exporter": "python",
   "pygments_lexer": "ipython3",
   "version": "3.8.3"
  }
 },
 "nbformat": 4,
 "nbformat_minor": 4
}
