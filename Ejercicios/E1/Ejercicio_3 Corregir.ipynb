{
 "cells": [
  {
   "cell_type": "markdown",
   "metadata": {},
   "source": [
    "<h1>Ejercicio 3<h1>\n",
    "   <h3>     \n",
    "El siguiente programa tiene un error, si le ingresas los valores “5” y “1” este debería dar como resultado 2, pero en cambio devuelve 5, ¿Qué hay que corregir?<h3>\n",
    "        "
   ]
  },
  {
   "cell_type": "code",
   "execution_count": 2,
   "metadata": {},
   "outputs": [
    {
     "name": "stdout",
     "output_type": "stream",
     "text": [
      "Un número: 5\n",
      "Otro número: 2\n",
      "5\n"
     ]
    }
   ],
   "source": [
    "def maximo(a,b):\n",
    "    if x>y:\n",
    "        return x\n",
    "    else:\n",
    "        return y\n",
    "\n",
    "def minimo(a,b):\n",
    "    if x<y:\n",
    "        return x\n",
    "    else:\n",
    "        return y\n",
    "\n",
    " \n",
    "#programa principal\n",
    "\n",
    "x=int(input(\"Un número: \"))\n",
    "y=int(input(\"Otro número: \"))\n",
    "\n",
    "print(maximo(x-3, minimo(x+2, y-5)))"
   ]
  },
  {
   "cell_type": "markdown",
   "metadata": {},
   "source": [
    "# Problema corregido \n",
    "    \n",
    "Los valores que retornaba la función no eran los correctos, tanto para los que pedia, así como los que devolvia \"x\" y \"y\" porque esas variables no estan declaradas de forma local en la función, ahora retorna los valores correctos."
   ]
  },
  {
   "cell_type": "code",
   "execution_count": 1,
   "metadata": {
    "collapsed": true
   },
   "outputs": [
    {
     "name": "stdout",
     "output_type": "stream",
     "text": [
      "Un número: 5\n",
      "Otro número: 1\n",
      "2\n"
     ]
    }
   ],
   "source": [
    "def maximo(a,b):\n",
    "    if a>b:\n",
    "        return a\n",
    "    else:\n",
    "        return b\n",
    "    \n",
    "    \n",
    "def minimo(a,b):\n",
    "    if a<b:\n",
    "        return a\n",
    "    else:\n",
    "        return b\n",
    "    \n",
    "    \n",
    "x = int(input(\"Un número: \"))\n",
    "y = int(input(\"Otro número: \"))\n",
    "\n",
    "print(maximo(x-3, minimo(x+2, y-5)))\n"
   ]
  },
  {
   "cell_type": "code",
   "execution_count": null,
   "metadata": {},
   "outputs": [],
   "source": []
  }
 ],
 "metadata": {
  "kernelspec": {
   "display_name": "Python 3",
   "language": "python",
   "name": "python3"
  },
  "language_info": {
   "codemirror_mode": {
    "name": "ipython",
    "version": 3
   },
   "file_extension": ".py",
   "mimetype": "text/x-python",
   "name": "python",
   "nbconvert_exporter": "python",
   "pygments_lexer": "ipython3",
   "version": "3.7.6"
  }
 },
 "nbformat": 4,
 "nbformat_minor": 4
}
