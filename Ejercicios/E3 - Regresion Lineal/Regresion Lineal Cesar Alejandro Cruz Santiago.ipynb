{
 "cells": [
  {
   "cell_type": "markdown",
   "metadata": {},
   "source": [
    "## CARGAR LAS LIBRERIAS: Pandas, Numpy y matplotlib.pyplot as plt"
   ]
  },
  {
   "cell_type": "code",
   "execution_count": 2,
   "metadata": {},
   "outputs": [],
   "source": [
    "import pandas as pd\n",
    "import numpy as np\n",
    "import matplotlib.pyplot as plt"
   ]
  },
  {
   "cell_type": "markdown",
   "metadata": {},
   "source": [
    "## Cargar el archivo \"Advertising.csv\" y crear un dataframe con las columnas \"TV\" y \"Sales\" e imprimirlas en pantalla."
   ]
  },
  {
   "cell_type": "markdown",
   "metadata": {},
   "source": [
    "###### Advertising.csv es un pequeño dataset que contiene la relación entre el aumento de ventas de un producto en particular en base a lo invertido en la publicidad. Con este conjunto de datos se realizará un modelo de regresion lineal para intentar predecir el aumento de ventas en base a lo invertido en publicidad en alguna de las categorias que son \"TV\" ,\"Radio\" y \"Newspaper\", en este caso se tomara la categoria de \"TV\"\n",
    "###### Tus valores X serán la categoria \"TV\" del dataset y tus valores \"y\" seran la categoria \"Sales\""
   ]
  },
  {
   "cell_type": "markdown",
   "metadata": {},
   "source": [
    "Extra (OPCIONAL): una vez se tenga el modelo y la función de este, desarrollar un programa que te permita predecir el aumento en ventas ( y ) para un valor en especifico de x, por ejemplo si yo ingreso un valor de 200  en \"x\" (inversión en publicidad para TV) que calcule cual sería el valor de \"Y\" ( incremento de ventas) para dicho valor de x."
   ]
  },
  {
   "cell_type": "code",
   "execution_count": 26,
   "metadata": {},
   "outputs": [],
   "source": [
    "data= pd.read_csv(\"advertising.csv\")\n",
    "dc=pd.DataFrame(data,columns=[\"TV\",\"Sales\"])\n"
   ]
  },
  {
   "cell_type": "markdown",
   "metadata": {},
   "source": [
    "### Realizar el procedimiento para la regresion lineal en las siguientes celdas:"
   ]
  },
  {
   "cell_type": "markdown",
   "metadata": {},
   "source": [
    "$\\ Y= Mx + b $\n",
    "\n",
    "$\\beta = (X^{T}*X)^{-1}X^{T}Y$"
   ]
  },
  {
   "cell_type": "code",
   "execution_count": 87,
   "metadata": {
    "scrolled": false
   },
   "outputs": [
    {
     "name": "stdout",
     "output_type": "stream",
     "text": [
      "[<matplotlib.lines.Line2D object at 0x000001B178C361C0>]\n",
      "Que valor desea invertir en publicidad: 200\n",
      "[<matplotlib.lines.Line2D object at 0x000001B178C36520>]\n",
      "El valor estimado para el incremento de ventas es:  16.539921635731652\n"
     ]
    },
    {
     "data": {
      "image/png": "[encoded data removed]",
      "text/plain": [
       "<Figure size 432x288 with 1 Axes>"
      ]
     },
     "metadata": {
      "needs_background": "light"
     },
     "output_type": "display_data"
    }
   ],
   "source": [
    "x= np.array(dc[\"TV\"])\n",
    "y= np.array(dc[\"Sales\"])\n",
    "plt.scatter(x,y)\n",
    "\n",
    "x=np.array([np.ones(200),x]).T\n",
    "B= np.linalg.inv(x.T@ x)@x.T@ y\n",
    "\n",
    "a=plt.plot([0,300],[B[0]+B[1]*0, B[0]+B[1]*300],color= \"red\")\n",
    "print(a)\n",
    "\n",
    "#programa opcional:\n",
    "n=int(input(\"Que valor desea invertir en publicidad: \"))\n",
    "m= B[0]+(B[1]*n)\n",
    "b= plt.plot(n,m,marker=\"X\",color=\"black\")\n",
    "print(b)\n",
    "print(\"El valor estimado para el incremento de ventas es: \",m)"
   ]
  },
  {
   "cell_type": "code",
   "execution_count": null,
   "metadata": {},
   "outputs": [],
   "source": []
  }
 ],
 "metadata": {
  "kernelspec": {
   "display_name": "Python 3",
   "language": "python",
   "name": "python3"
  },
  "language_info": {
   "codemirror_mode": {
    "name": "ipython",
    "version": 3
   },
   "file_extension": ".py",
   "mimetype": "text/x-python",
   "name": "python",
   "nbconvert_exporter": "python",
   "pygments_lexer": "ipython3",
   "version": "3.8.3"
  }
 },
 "nbformat": 4,
 "nbformat_minor": 4
}
