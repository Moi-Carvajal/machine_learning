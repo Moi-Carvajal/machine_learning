{
 "cells": [
  {
   "cell_type": "markdown",
   "metadata": {},
   "source": [
    "### CARGAR LAS LIBRERIAS: Pandas, Numpy y matplotlib.pyplot as plt"
   ]
  },
  {
   "cell_type": "code",
   "execution_count": 1,
   "metadata": {},
   "outputs": [],
   "source": [
    "import pandas as pd\n",
    "import numpy as np\n",
    "import matplotlib.pyplot as plt"
   ]
  },
  {
   "cell_type": "markdown",
   "metadata": {},
   "source": [
    "### Cargar el archivo \"Advertising.csv\" y crear un dataframe con las columnas \"TV\" y \"Sales\" e imprimirlas en pantalla. \n",
    "#### Advertising.csv es un pequeño dataset que contiene la relación entre el aumento de ventas de un producto en particular en base a lo invertido en la publicidad. Con este conjunto de datos se realizará un modelo de regresion lineal para intentar predecir el aumento de ventas en base a lo invertido en publicidad en alguna de las categorias que son \"TV\" ,\"Radio\" y \"Newspaper\", en este caso se tomara la categoria de \"TV\"\n",
    "##### Los valores X serán la categoria \"TV\" del dataset y los valores \"y\" seran la categoria \"Sales\""
   ]
  },
  {
   "cell_type": "code",
   "execution_count": 20,
   "metadata": {},
   "outputs": [],
   "source": [
    "data=pd.read_csv(\"Advertising.csv\")\n",
    "df=pd.DataFrame(data,columns=[\"TV\",\"Sales\"])"
   ]
  },
  {
   "cell_type": "markdown",
   "metadata": {},
   "source": [
    "### Realizar el procedimiento para la regresion lineal en las siguientes celdas:"
   ]
  },
  {
   "cell_type": "markdown",
   "metadata": {},
   "source": [
    "##### $\\ Y= Mx + b $\n",
    "$\\beta = (X^{T}*X)^{-1}X^{T}Y$      "
   ]
  },
  {
   "cell_type": "code",
   "execution_count": null,
   "metadata": {},
   "outputs": [],
   "source": []
  },
  {
   "cell_type": "code",
   "execution_count": null,
   "metadata": {},
   "outputs": [],
   "source": []
  },
  {
   "cell_type": "code",
   "execution_count": null,
   "metadata": {},
   "outputs": [],
   "source": []
  },
  {
   "cell_type": "code",
   "execution_count": null,
   "metadata": {},
   "outputs": [],
   "source": []
  },
  {
   "cell_type": "code",
   "execution_count": null,
   "metadata": {},
   "outputs": [],
   "source": []
  },
  {
   "cell_type": "code",
   "execution_count": null,
   "metadata": {},
   "outputs": [],
   "source": []
  }
 ],
 "metadata": {
  "kernelspec": {
   "display_name": "Python 3",
   "language": "python",
   "name": "python3"
  },
  "language_info": {
   "codemirror_mode": {
    "name": "ipython",
    "version": 3
   },
   "file_extension": ".py",
   "mimetype": "text/x-python",
   "name": "python",
   "nbconvert_exporter": "python",
   "pygments_lexer": "ipython3",
   "version": "3.7.5"
  }
 },
 "nbformat": 4,
 "nbformat_minor": 2
}
