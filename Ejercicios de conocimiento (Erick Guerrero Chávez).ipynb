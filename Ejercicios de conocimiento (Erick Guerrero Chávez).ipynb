{
 "cells": [
  {
   "cell_type": "markdown",
   "metadata": {},
   "source": [
    "Actividad 1"
   ]
  },
  {
   "cell_type": "code",
   "execution_count": 1,
   "metadata": {},
   "outputs": [
    {
     "name": "stdin",
     "output_type": "stream",
     "text": [
      "Por avor, proporcione una frase:  Papopepo\n"
     ]
    },
    {
     "name": "stdout",
     "output_type": "stream",
     "text": [
      "Papopepo invertido es  opepopaP\n"
     ]
    }
   ],
   "source": [
    "String = input(\"Por avor, proporcione una frase: \")\n",
    "invertido = \"\"\n",
    "for i in String:\n",
    "    invertido = i + invertido\n",
    "print(String, \"invertido es \", invertido)"
   ]
  },
  {
   "cell_type": "markdown",
   "metadata": {},
   "source": [
    "Actividad 2"
   ]
  },
  {
   "cell_type": "code",
   "execution_count": 5,
   "metadata": {},
   "outputs": [
    {
     "name": "stdout",
     "output_type": "stream",
     "text": [
      "Ingrese numero binario a convertir\n"
     ]
    },
    {
     "name": "stdin",
     "output_type": "stream",
     "text": [
      " 101\n"
     ]
    },
    {
     "name": "stdout",
     "output_type": "stream",
     "text": [
      "El número equivalente en decimal de 101 es: 5\n"
     ]
    }
   ],
   "source": [
    "print(\"Ingrese numero binario a convertir\")\n",
    "b=(input())\n",
    "print (\"El número equivalente en decimal de\", b, \"es:\",(int(str(b), 2)))"
   ]
  },
  {
   "cell_type": "markdown",
   "metadata": {},
   "source": [
    "Actividad 3"
   ]
  },
  {
   "cell_type": "code",
   "execution_count": 3,
   "metadata": {},
   "outputs": [
    {
     "name": "stdin",
     "output_type": "stream",
     "text": [
      "Un numero:  5\n",
      "Otro numero:  1\n"
     ]
    },
    {
     "name": "stdout",
     "output_type": "stream",
     "text": [
      "2\n"
     ]
    }
   ],
   "source": [
    "def maximo(x,y):\n",
    "  if x>y:\n",
    "    return x\n",
    "  else:\n",
    "    return y\n",
    "\n",
    " \n",
    "def minimo(x,y):\n",
    "  if x<y:\n",
    "    return x\n",
    "  else:\n",
    "    return y\n",
    "\n",
    " \n",
    "#programa principal\n",
    "x=int(input(\"Un numero: \"))\n",
    "y=int(input(\"Otro numero: \"))\n",
    "print(maximo(x-3, minimo(x+2, y-5)))"
   ]
  },
  {
   "cell_type": "markdown",
   "metadata": {},
   "source": [
    "Para resolver el problema había que cambiar los \"a,b\" por \"x,y\""
   ]
  }
 ],
 "metadata": {
  "kernelspec": {
   "display_name": "Python 3",
   "language": "python",
   "name": "python3"
  },
  "language_info": {
   "codemirror_mode": {
    "name": "ipython",
    "version": 3
   },
   "file_extension": ".py",
   "mimetype": "text/x-python",
   "name": "python",
   "nbconvert_exporter": "python",
   "pygments_lexer": "ipython3",
   "version": "3.8.3"
  }
 },
 "nbformat": 4,
 "nbformat_minor": 4
}
